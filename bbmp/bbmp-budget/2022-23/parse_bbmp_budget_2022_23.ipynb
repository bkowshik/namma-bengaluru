{
 "cells": [
  {
   "cell_type": "markdown",
   "metadata": {},
   "source": [
    "# Parse BBMP Budget 2022-23"
   ]
  },
  {
   "cell_type": "code",
   "execution_count": null,
   "metadata": {},
   "outputs": [],
   "source": [
    "# Install required libraries to parse the BBMP budget file.\n",
    "!python3 -m pip install --quiet --upgrade pip\n",
    "!python3 -m pip install --quiet tabula-py openpyxl"
   ]
  },
  {
   "cell_type": "code",
   "execution_count": null,
   "metadata": {},
   "outputs": [],
   "source": [
    "import pandas as pd\n",
    "import tabula"
   ]
  },
  {
   "cell_type": "code",
   "execution_count": null,
   "metadata": {},
   "outputs": [],
   "source": [
    "CONFIG_FILENAME = './inputs/2022-23-BBMP-BUDGET.pdf'"
   ]
  },
  {
   "cell_type": "code",
   "execution_count": null,
   "metadata": {},
   "outputs": [],
   "source": []
  },
  {
   "cell_type": "code",
   "execution_count": null,
   "metadata": {},
   "outputs": [],
   "source": []
  },
  {
   "cell_type": "markdown",
   "metadata": {},
   "source": [
    "## Part 1. Financial position 2022-23"
   ]
  },
  {
   "cell_type": "code",
   "execution_count": null,
   "metadata": {},
   "outputs": [],
   "source": [
    "pages = tabula.read_pdf(CONFIG_FILENAME, lattice=True, multiple_tables=True, pages='6-7', pandas_options={'header': None})\n",
    "print(len(pages))"
   ]
  },
  {
   "cell_type": "code",
   "execution_count": null,
   "metadata": {},
   "outputs": [],
   "source": [
    "payments = []\n",
    "\n",
    "for page in pages:\n",
    "\n",
    "    for i, row in page.iterrows():\n",
    "\n",
    "        non_empty_columns = sum([1 for column in row if (not pd.isna(column))])\n",
    "\n",
    "        try:\n",
    "            if non_empty_columns >= 5 and (not pd.isna(row[1])):\n",
    "                payments.append(row)\n",
    "        except ValueError as e:\n",
    "            continue\n",
    "\n",
    "payments = pd.DataFrame(payments).dropna(axis=1, how='all')\n",
    "payments.columns = ['ಕರ .ಷ. SL NO', 'ವಿ಴ರಗಳು Particulars', 'ಲೆಕಕ ಗಳು Accounts 2020-21', 'ಆಯ಴ಯ ಯ ಅೆಂದಾಜು Budget Estimate 2021-22', 'ವಾಷು ವಿಕ ಲೆಕಕ ಗಳು ಡಿಸೆಂಬರ್ Actual upto December 2021', '಩ರಿಶಕ ೃತ ಆಯ಴ಯ ಯ Revised Budget Estimate 2021-22', 'ಆಯ಴ಯ ಯ ಆೆಂದಾಜು Budget Estimate 2022-23']\n",
    "\n",
    "print(payments.shape)\n",
    "payments.head(1)"
   ]
  },
  {
   "cell_type": "code",
   "execution_count": null,
   "metadata": {},
   "outputs": [],
   "source": [
    "payments.to_excel('./outputs/financial-position.xlsx', index=False, encoding='utf-8')"
   ]
  },
  {
   "cell_type": "code",
   "execution_count": null,
   "metadata": {},
   "outputs": [],
   "source": []
  },
  {
   "cell_type": "code",
   "execution_count": null,
   "metadata": {},
   "outputs": [],
   "source": []
  },
  {
   "cell_type": "markdown",
   "metadata": {},
   "source": [
    "## Part 2. Receipts"
   ]
  },
  {
   "cell_type": "code",
   "execution_count": null,
   "metadata": {},
   "outputs": [],
   "source": [
    "pages = tabula.read_pdf(CONFIG_FILENAME, lattice=True, multiple_tables=True, pages='10-29', pandas_options={'header': None})\n",
    "print(len(pages))"
   ]
  },
  {
   "cell_type": "code",
   "execution_count": null,
   "metadata": {},
   "outputs": [],
   "source": [
    "payments = []\n",
    "\n",
    "for page in pages:\n",
    "\n",
    "    for i, row in page.iterrows():\n",
    "\n",
    "        try:\n",
    "            if (not pd.isna(row[3])) and (pd.isna(row[4])) and (not pd.isna(row[5])):\n",
    "                payments.append([row[1], row[3], row[5], row[7], row[9], row[11], row[13]])\n",
    "        except KeyError as e:\n",
    "            continue\n",
    "\n",
    "payments = pd.DataFrame(payments)\n",
    "payments.columns = ['ಆಯ಴ಯ ಯ ಸಂಕೇತ Budget code', 'ವಿ಴ರಗಳು Particulars', 'ಲೆಕಕ ಗಳು Accounts 2020-21', 'ಆಯ಴ಯ ಯ ಅೆಂದಾಜು Budget Estimate 2021-22', 'ವಾಷು ವಿಕ ಲೆಕಕ ಗಳು ಡಿಸೆಂಬರ್ Actual upto December 2021', '಩ರಿಶಕ ೃತ ಆಯ಴ಯ ಯ Revised Budget Estimate 2021-22', 'ಆಯ಴ಯ ಯ ಆೆಂದಾಜು Budget Estimate 2022-23']\n",
    "\n",
    "print(payments.shape)\n",
    "payments.head(1)"
   ]
  },
  {
   "cell_type": "code",
   "execution_count": null,
   "metadata": {},
   "outputs": [],
   "source": [
    "payments.to_excel('./outputs/receipts.xlsx', index=False, encoding='utf-8')"
   ]
  },
  {
   "cell_type": "code",
   "execution_count": null,
   "metadata": {},
   "outputs": [],
   "source": []
  },
  {
   "cell_type": "code",
   "execution_count": null,
   "metadata": {},
   "outputs": [],
   "source": []
  },
  {
   "cell_type": "markdown",
   "metadata": {},
   "source": [
    "## Part 3. Payments"
   ]
  },
  {
   "cell_type": "code",
   "execution_count": null,
   "metadata": {},
   "outputs": [],
   "source": [
    "pages = tabula.read_pdf(CONFIG_FILENAME, lattice=True, multiple_tables=True, pages='30-91', pandas_options={'header': None})\n",
    "print(len(pages))"
   ]
  },
  {
   "cell_type": "code",
   "execution_count": null,
   "metadata": {},
   "outputs": [],
   "source": [
    "payments = []\n",
    "\n",
    "for page in pages:\n",
    "\n",
    "    for i, row in page.iterrows():\n",
    "\n",
    "        try:\n",
    "            if (not pd.isna(row[3])) and (pd.isna(row[4])) and (not pd.isna(row[5])):\n",
    "                payments.append([row[1], row[3], row[5], row[7], row[9], row[11], row[13]])\n",
    "        except KeyError as e:\n",
    "            continue\n",
    "\n",
    "payments = pd.DataFrame(payments)\n",
    "payments.columns = ['ಆಯ಴ಯ ಯ ಸಂಕೇತ Budget code', 'ವಿ಴ರಗಳು Particulars', 'ಲೆಕಕ ಗಳು Accounts 2020-21', 'ಆಯ಴ಯ ಯ ಅೆಂದಾಜು Budget Estimate 2021-22', 'ವಾಷು ವಿಕ ಲೆಕಕ ಗಳು ಡಿಸೆಂಬರ್ Actual upto December 2021', '಩ರಿಶಕ ೃತ ಆಯ಴ಯ ಯ Revised Budget Estimate 2021-22', 'ಆಯ಴ಯ ಯ ಆೆಂದಾಜು Budget Estimate 2022-23']\n",
    "\n",
    "print(payments.shape)\n",
    "payments.head(1)"
   ]
  },
  {
   "cell_type": "code",
   "execution_count": null,
   "metadata": {},
   "outputs": [],
   "source": [
    "payments.to_excel('./outputs/payments.xlsx', index=False, encoding='utf-8')"
   ]
  },
  {
   "cell_type": "code",
   "execution_count": null,
   "metadata": {},
   "outputs": [],
   "source": []
  },
  {
   "cell_type": "code",
   "execution_count": null,
   "metadata": {},
   "outputs": [],
   "source": []
  },
  {
   "cell_type": "markdown",
   "metadata": {},
   "source": [
    "## Part 4. Payment details"
   ]
  },
  {
   "cell_type": "code",
   "execution_count": null,
   "metadata": {},
   "outputs": [],
   "source": [
    "pages = tabula.read_pdf(CONFIG_FILENAME, lattice=True, multiple_tables=True, pages='92-188', pandas_options={'header': None})\n",
    "print(len(pages))"
   ]
  },
  {
   "cell_type": "code",
   "execution_count": null,
   "metadata": {},
   "outputs": [],
   "source": [
    "payments = []\n",
    "\n",
    "for page in pages:\n",
    "\n",
    "    for i, row in page.iterrows():\n",
    "\n",
    "        try:\n",
    "            if (not pd.isna(row[1])) and (pd.isna(row[2])) and (not pd.isna(row[3])) and (pd.isna(row[4])) and (not pd.isna(row[5])) and (pd.isna(row[6])) and (not pd.isna(row[7])):\n",
    "\n",
    "                if row[1] != 'Budget':\n",
    "                    payments.append([row[1], row[3], row[5], row[7], row[9], row[11], row[13], row[15], row[17], row[19]])\n",
    "        except KeyError as e:\n",
    "            continue\n",
    "\n",
    "payments = pd.DataFrame(payments)\n",
    "payments.columns = ['ಆಯ಴ಯ ಯ ಸಂಕೇತ Budget code', 'ವಿ಴ರಗಳು Particulars', 'ಲೆಕಕ ಗಳು Accounts 2020-21', 'ಆಯ಴ಯ ಯ ಅೆಂದಾಜು Budget Estimate 2021-22', 'ವಾಷು ವಿಕ ಲೆಕಕ ಗಳು ಡಿಸೆಂಬರ್ Actual upto December 2021', '಩ರಿಶಕ ೃತ ಆಯ಴ಯ ಯ Revised Budget Estimate 2021-22', 'ಬಾಕ ಬಿಲ್ಕಿ ಗಳು Pending', '಩ರ ಗತಿಯಲಿಿ ರು಴ ರ್ಕಮಗಾರಿ ಗಳು On going Works', 'ಹೊಷ ರ್ಕಮಗಾರಿ ಗಳು New Works', 'ಒಟುು Total']\n",
    "\n",
    "print(payments.shape)\n",
    "payments.head(1)"
   ]
  },
  {
   "cell_type": "code",
   "execution_count": null,
   "metadata": {},
   "outputs": [],
   "source": [
    "payments.to_excel('./outputs/payment-details.xlsx', index=False, encoding='utf-8')"
   ]
  },
  {
   "cell_type": "code",
   "execution_count": null,
   "metadata": {},
   "outputs": [],
   "source": []
  },
  {
   "cell_type": "code",
   "execution_count": null,
   "metadata": {},
   "outputs": [],
   "source": []
  }
 ],
 "metadata": {
  "kernelspec": {
   "display_name": "Python 3.9.4 64-bit",
   "language": "python",
   "name": "python3"
  },
  "language_info": {
   "codemirror_mode": {
    "name": "ipython",
    "version": 3
   },
   "file_extension": ".py",
   "mimetype": "text/x-python",
   "name": "python",
   "nbconvert_exporter": "python",
   "pygments_lexer": "ipython3",
   "version": "3.9.4"
  },
  "orig_nbformat": 4,
  "vscode": {
   "interpreter": {
    "hash": "aee8b7b246df8f9039afb4144a1f6fd8d2ca17a180786b69acc140d282b71a49"
   }
  }
 },
 "nbformat": 4,
 "nbformat_minor": 2
}
